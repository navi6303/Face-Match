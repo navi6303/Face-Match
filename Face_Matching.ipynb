{
  "nbformat": 4,
  "nbformat_minor": 0,
  "metadata": {
    "colab": {
      "provenance": [],
      "gpuType": "T4"
    },
    "kernelspec": {
      "name": "python3",
      "display_name": "Python 3"
    },
    "language_info": {
      "name": "python"
    },
    "accelerator": "GPU"
  },
  "cells": [
    {
      "cell_type": "code",
      "execution_count": null,
      "metadata": {
        "id": "kiceCid-zCEr"
      },
      "outputs": [],
      "source": [
        "!pip install opencv-python\n",
        "!pip3 install face-recognition"
      ]
    },
    {
      "cell_type": "code",
      "source": [
        "!pip install cmake\n",
        "!pip install dlib\n",
        "!pip3 install face_detection"
      ],
      "metadata": {
        "id": "1_Mqj7o40msT"
      },
      "execution_count": null,
      "outputs": []
    },
    {
      "cell_type": "code",
      "source": [
        "!pip install Dlib"
      ],
      "metadata": {
        "colab": {
          "base_uri": "https://localhost:8080/"
        },
        "id": "JvxtNtsN1XN9",
        "outputId": "2328f0cf-5e04-48c9-bd29-3975d4ba20d3"
      },
      "execution_count": null,
      "outputs": [
        {
          "output_type": "stream",
          "name": "stdout",
          "text": [
            "Requirement already satisfied: Dlib in /usr/local/lib/python3.10/dist-packages (19.24.2)\n"
          ]
        }
      ]
    },
    {
      "cell_type": "code",
      "source": [
        "import cv2\n",
        "import face_recognition"
      ],
      "metadata": {
        "id": "ibUjY6MMzHYi"
      },
      "execution_count": null,
      "outputs": []
    },
    {
      "cell_type": "code",
      "source": [
        "def find_face_encodings(image_path):\n",
        "\n",
        "    image = cv2.imread(image_path)\n",
        "\n",
        "    face_enc = face_recognition.face_encodings(image)\n",
        "\n",
        "    return face_enc[0]"
      ],
      "metadata": {
        "id": "rOVeAC4LzRG3"
      },
      "execution_count": null,
      "outputs": []
    },
    {
      "cell_type": "code",
      "source": [
        "# getting face encodings for first image\n",
        "image_1 = find_face_encodings(\"test10.jpeg\")\n",
        "# getting face encodings for second image\n",
        "image_2  = find_face_encodings(\"test6.jpg\")"
      ],
      "metadata": {
        "id": "9VzHxzt22J_z"
      },
      "execution_count": null,
      "outputs": []
    },
    {
      "cell_type": "code",
      "source": [
        "# checking both images are same\n",
        "is_same = face_recognition.compare_faces([image_1], image_2)[0]\n",
        "print(f\"Is Same: {is_same}\")\n",
        "if is_same:\n",
        "    # finding the distance level between images\n",
        "    distance = face_recognition.face_distance([image_1], image_2)\n",
        "    distance = round(distance[0] * 100)\n",
        "\n",
        "    # calcuating accuracy level between images\n",
        "    accuracy = 100 - round(distance)\n",
        "    print(\"The images are same\")\n",
        "    print(f\"Accuracy Level: {accuracy}%\")\n",
        "else:\n",
        "    print(\"The images are not same\")"
      ],
      "metadata": {
        "colab": {
          "base_uri": "https://localhost:8080/"
        },
        "id": "83nwuWRs2UsU",
        "outputId": "166e37e4-8849-4fde-8294-764e30b44811"
      },
      "execution_count": null,
      "outputs": [
        {
          "output_type": "stream",
          "name": "stdout",
          "text": [
            "Is Same: True\n",
            "The images are same\n",
            "Accuracy Level: 46%\n"
          ]
        }
      ]
    }
  ]
}